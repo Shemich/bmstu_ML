{
 "cells": [
  {
   "cell_type": "markdown",
   "id": "aa90e868",
   "metadata": {
    "papermill": {
     "duration": 0.015559,
     "end_time": "2021-09-06T06:06:08.903801",
     "exception": false,
     "start_time": "2021-09-06T06:06:08.888242",
     "status": "completed"
    },
    "tags": []
   },
   "source": [
    "# Naive Bayes Classifier from Scratch\n",
    "​\n",
    "In this notebook, we will look at the overview of the Naive Bayes classifier and implement it from scratch and try to fit it on this mushroom classification dataset to predict if a mushroom is poisonous or edible."
   ]
  },
  {
   "cell_type": "markdown",
   "id": "2e7253c2",
   "metadata": {
    "papermill": {
     "duration": 0.014024,
     "end_time": "2021-09-06T06:06:08.932862",
     "exception": false,
     "start_time": "2021-09-06T06:06:08.918838",
     "status": "completed"
    },
    "tags": []
   },
   "source": [
    "The probabilistic model for this classifier looks like:\n",
    "\\begin{equation}\n",
    "P(C_k | x) = \\frac{P(C_k) * P(x | C_k)}{P(x)}\n",
    "\\end{equation}\n",
    "\n",
    "\n",
    "In plain English, using Bayesian probability terminology, the above equation can be written as\n",
    "\\begin{equation}\n",
    "posterior = \\frac{prior * likelihood}{evidence}\n",
    "\\end{equation}"
   ]
  },
  {
   "cell_type": "code",
   "execution_count": 1,
   "id": "a6592963",
   "metadata": {
    "execution": {
     "iopub.execute_input": "2021-09-06T06:06:08.966518Z",
     "iopub.status.busy": "2021-09-06T06:06:08.965192Z",
     "iopub.status.idle": "2021-09-06T06:06:10.007846Z",
     "shell.execute_reply": "2021-09-06T06:06:10.007166Z",
     "shell.execute_reply.started": "2021-09-06T05:51:19.479176Z"
    },
    "papermill": {
     "duration": 1.060758,
     "end_time": "2021-09-06T06:06:10.008017",
     "exception": false,
     "start_time": "2021-09-06T06:06:08.947259",
     "status": "completed"
    },
    "tags": []
   },
   "outputs": [],
   "source": [
    "# This Python 3 environment comes with many helpful analytics libraries installed\n",
    "# It is defined by the kaggle/python Docker image: https://github.com/kaggle/docker-python\n",
    "# For example, here's several helpful packages to load\n",
    "\n",
    "import numpy as np # linear algebra\n",
    "import pandas as pd # data processing, CSV file I/O (e.g. pd.read_csv)\n",
    "from sklearn.preprocessing import LabelEncoder\n",
    "from sklearn.model_selection import train_test_split"
   ]
  },
  {
   "cell_type": "markdown",
   "id": "deb4c101",
   "metadata": {
    "papermill": {
     "duration": 0.014033,
     "end_time": "2021-09-06T06:06:10.036667",
     "exception": false,
     "start_time": "2021-09-06T06:06:10.022634",
     "status": "completed"
    },
    "tags": []
   },
   "source": [
    "## Load the Dataset"
   ]
  },
  {
   "cell_type": "code",
   "execution_count": 2,
   "id": "6b4ca348",
   "metadata": {
    "execution": {
     "iopub.execute_input": "2021-09-06T06:06:10.070623Z",
     "iopub.status.busy": "2021-09-06T06:06:10.069891Z",
     "iopub.status.idle": "2021-09-06T06:06:10.150593Z",
     "shell.execute_reply": "2021-09-06T06:06:10.151111Z",
     "shell.execute_reply.started": "2021-09-06T05:51:19.879359Z"
    },
    "papermill": {
     "duration": 0.100251,
     "end_time": "2021-09-06T06:06:10.151283",
     "exception": false,
     "start_time": "2021-09-06T06:06:10.051032",
     "status": "completed"
    },
    "tags": []
   },
   "outputs": [
    {
     "data": {
      "text/html": [
       "<div>\n",
       "<style scoped>\n",
       "    .dataframe tbody tr th:only-of-type {\n",
       "        vertical-align: middle;\n",
       "    }\n",
       "\n",
       "    .dataframe tbody tr th {\n",
       "        vertical-align: top;\n",
       "    }\n",
       "\n",
       "    .dataframe thead th {\n",
       "        text-align: right;\n",
       "    }\n",
       "</style>\n",
       "<table border=\"1\" class=\"dataframe\">\n",
       "  <thead>\n",
       "    <tr style=\"text-align: right;\">\n",
       "      <th></th>\n",
       "      <th>class</th>\n",
       "      <th>cap-shape</th>\n",
       "      <th>cap-surface</th>\n",
       "      <th>cap-color</th>\n",
       "      <th>bruises</th>\n",
       "      <th>odor</th>\n",
       "      <th>gill-attachment</th>\n",
       "      <th>gill-spacing</th>\n",
       "      <th>gill-size</th>\n",
       "      <th>gill-color</th>\n",
       "      <th>...</th>\n",
       "      <th>stalk-surface-below-ring</th>\n",
       "      <th>stalk-color-above-ring</th>\n",
       "      <th>stalk-color-below-ring</th>\n",
       "      <th>veil-type</th>\n",
       "      <th>veil-color</th>\n",
       "      <th>ring-number</th>\n",
       "      <th>ring-type</th>\n",
       "      <th>spore-print-color</th>\n",
       "      <th>population</th>\n",
       "      <th>habitat</th>\n",
       "    </tr>\n",
       "  </thead>\n",
       "  <tbody>\n",
       "    <tr>\n",
       "      <th>0</th>\n",
       "      <td>p</td>\n",
       "      <td>x</td>\n",
       "      <td>s</td>\n",
       "      <td>n</td>\n",
       "      <td>t</td>\n",
       "      <td>p</td>\n",
       "      <td>f</td>\n",
       "      <td>c</td>\n",
       "      <td>n</td>\n",
       "      <td>k</td>\n",
       "      <td>...</td>\n",
       "      <td>s</td>\n",
       "      <td>w</td>\n",
       "      <td>w</td>\n",
       "      <td>p</td>\n",
       "      <td>w</td>\n",
       "      <td>o</td>\n",
       "      <td>p</td>\n",
       "      <td>k</td>\n",
       "      <td>s</td>\n",
       "      <td>u</td>\n",
       "    </tr>\n",
       "    <tr>\n",
       "      <th>1</th>\n",
       "      <td>e</td>\n",
       "      <td>x</td>\n",
       "      <td>s</td>\n",
       "      <td>y</td>\n",
       "      <td>t</td>\n",
       "      <td>a</td>\n",
       "      <td>f</td>\n",
       "      <td>c</td>\n",
       "      <td>b</td>\n",
       "      <td>k</td>\n",
       "      <td>...</td>\n",
       "      <td>s</td>\n",
       "      <td>w</td>\n",
       "      <td>w</td>\n",
       "      <td>p</td>\n",
       "      <td>w</td>\n",
       "      <td>o</td>\n",
       "      <td>p</td>\n",
       "      <td>n</td>\n",
       "      <td>n</td>\n",
       "      <td>g</td>\n",
       "    </tr>\n",
       "    <tr>\n",
       "      <th>2</th>\n",
       "      <td>e</td>\n",
       "      <td>b</td>\n",
       "      <td>s</td>\n",
       "      <td>w</td>\n",
       "      <td>t</td>\n",
       "      <td>l</td>\n",
       "      <td>f</td>\n",
       "      <td>c</td>\n",
       "      <td>b</td>\n",
       "      <td>n</td>\n",
       "      <td>...</td>\n",
       "      <td>s</td>\n",
       "      <td>w</td>\n",
       "      <td>w</td>\n",
       "      <td>p</td>\n",
       "      <td>w</td>\n",
       "      <td>o</td>\n",
       "      <td>p</td>\n",
       "      <td>n</td>\n",
       "      <td>n</td>\n",
       "      <td>m</td>\n",
       "    </tr>\n",
       "    <tr>\n",
       "      <th>3</th>\n",
       "      <td>p</td>\n",
       "      <td>x</td>\n",
       "      <td>y</td>\n",
       "      <td>w</td>\n",
       "      <td>t</td>\n",
       "      <td>p</td>\n",
       "      <td>f</td>\n",
       "      <td>c</td>\n",
       "      <td>n</td>\n",
       "      <td>n</td>\n",
       "      <td>...</td>\n",
       "      <td>s</td>\n",
       "      <td>w</td>\n",
       "      <td>w</td>\n",
       "      <td>p</td>\n",
       "      <td>w</td>\n",
       "      <td>o</td>\n",
       "      <td>p</td>\n",
       "      <td>k</td>\n",
       "      <td>s</td>\n",
       "      <td>u</td>\n",
       "    </tr>\n",
       "    <tr>\n",
       "      <th>4</th>\n",
       "      <td>e</td>\n",
       "      <td>x</td>\n",
       "      <td>s</td>\n",
       "      <td>g</td>\n",
       "      <td>f</td>\n",
       "      <td>n</td>\n",
       "      <td>f</td>\n",
       "      <td>w</td>\n",
       "      <td>b</td>\n",
       "      <td>k</td>\n",
       "      <td>...</td>\n",
       "      <td>s</td>\n",
       "      <td>w</td>\n",
       "      <td>w</td>\n",
       "      <td>p</td>\n",
       "      <td>w</td>\n",
       "      <td>o</td>\n",
       "      <td>e</td>\n",
       "      <td>n</td>\n",
       "      <td>a</td>\n",
       "      <td>g</td>\n",
       "    </tr>\n",
       "  </tbody>\n",
       "</table>\n",
       "<p>5 rows × 23 columns</p>\n",
       "</div>"
      ],
      "text/plain": [
       "  class cap-shape cap-surface cap-color bruises odor gill-attachment  \\\n",
       "0     p         x           s         n       t    p               f   \n",
       "1     e         x           s         y       t    a               f   \n",
       "2     e         b           s         w       t    l               f   \n",
       "3     p         x           y         w       t    p               f   \n",
       "4     e         x           s         g       f    n               f   \n",
       "\n",
       "  gill-spacing gill-size gill-color  ... stalk-surface-below-ring  \\\n",
       "0            c         n          k  ...                        s   \n",
       "1            c         b          k  ...                        s   \n",
       "2            c         b          n  ...                        s   \n",
       "3            c         n          n  ...                        s   \n",
       "4            w         b          k  ...                        s   \n",
       "\n",
       "  stalk-color-above-ring stalk-color-below-ring veil-type veil-color  \\\n",
       "0                      w                      w         p          w   \n",
       "1                      w                      w         p          w   \n",
       "2                      w                      w         p          w   \n",
       "3                      w                      w         p          w   \n",
       "4                      w                      w         p          w   \n",
       "\n",
       "  ring-number ring-type spore-print-color population habitat  \n",
       "0           o         p                 k          s       u  \n",
       "1           o         p                 n          n       g  \n",
       "2           o         p                 n          n       m  \n",
       "3           o         p                 k          s       u  \n",
       "4           o         e                 n          a       g  \n",
       "\n",
       "[5 rows x 23 columns]"
      ]
     },
     "execution_count": 2,
     "metadata": {},
     "output_type": "execute_result"
    }
   ],
   "source": [
    "df = pd.read_csv('../input/mushroom-classification/mushrooms.csv')\n",
    "\n",
    "df.head()"
   ]
  },
  {
   "cell_type": "markdown",
   "id": "e5d2f257",
   "metadata": {
    "papermill": {
     "duration": 0.015248,
     "end_time": "2021-09-06T06:06:10.182078",
     "exception": false,
     "start_time": "2021-09-06T06:06:10.166830",
     "status": "completed"
    },
    "tags": []
   },
   "source": [
    "Here,, we can see from the dataset that \n",
    "\n",
    "- All the features are categorical and\n",
    "- the values for the features need to be encoded into numeric values for our classifier.\n"
   ]
  },
  {
   "cell_type": "markdown",
   "id": "df2ee30e",
   "metadata": {
    "papermill": {
     "duration": 0.015232,
     "end_time": "2021-09-06T06:06:10.212730",
     "exception": false,
     "start_time": "2021-09-06T06:06:10.197498",
     "status": "completed"
    },
    "tags": []
   },
   "source": [
    "## Encode the features into Numerical data\n",
    "\n",
    "We will use the LabelEncoder for this specific task which creates ordinal values for all the categorical features. \n",
    "\n",
    "While it may not be the best approach but it is really simple"
   ]
  },
  {
   "cell_type": "code",
   "execution_count": 3,
   "id": "cd0789c5",
   "metadata": {
    "execution": {
     "iopub.execute_input": "2021-09-06T06:06:10.247310Z",
     "iopub.status.busy": "2021-09-06T06:06:10.246374Z",
     "iopub.status.idle": "2021-09-06T06:06:10.330892Z",
     "shell.execute_reply": "2021-09-06T06:06:10.330386Z",
     "shell.execute_reply.started": "2021-09-06T05:51:19.946947Z"
    },
    "papermill": {
     "duration": 0.102922,
     "end_time": "2021-09-06T06:06:10.331043",
     "exception": false,
     "start_time": "2021-09-06T06:06:10.228121",
     "status": "completed"
    },
    "tags": []
   },
   "outputs": [
    {
     "data": {
      "text/html": [
       "<div>\n",
       "<style scoped>\n",
       "    .dataframe tbody tr th:only-of-type {\n",
       "        vertical-align: middle;\n",
       "    }\n",
       "\n",
       "    .dataframe tbody tr th {\n",
       "        vertical-align: top;\n",
       "    }\n",
       "\n",
       "    .dataframe thead th {\n",
       "        text-align: right;\n",
       "    }\n",
       "</style>\n",
       "<table border=\"1\" class=\"dataframe\">\n",
       "  <thead>\n",
       "    <tr style=\"text-align: right;\">\n",
       "      <th></th>\n",
       "      <th>class</th>\n",
       "      <th>cap-shape</th>\n",
       "      <th>cap-surface</th>\n",
       "      <th>cap-color</th>\n",
       "      <th>bruises</th>\n",
       "      <th>odor</th>\n",
       "      <th>gill-attachment</th>\n",
       "      <th>gill-spacing</th>\n",
       "      <th>gill-size</th>\n",
       "      <th>gill-color</th>\n",
       "      <th>...</th>\n",
       "      <th>stalk-surface-below-ring</th>\n",
       "      <th>stalk-color-above-ring</th>\n",
       "      <th>stalk-color-below-ring</th>\n",
       "      <th>veil-type</th>\n",
       "      <th>veil-color</th>\n",
       "      <th>ring-number</th>\n",
       "      <th>ring-type</th>\n",
       "      <th>spore-print-color</th>\n",
       "      <th>population</th>\n",
       "      <th>habitat</th>\n",
       "    </tr>\n",
       "  </thead>\n",
       "  <tbody>\n",
       "    <tr>\n",
       "      <th>0</th>\n",
       "      <td>1</td>\n",
       "      <td>5</td>\n",
       "      <td>2</td>\n",
       "      <td>4</td>\n",
       "      <td>1</td>\n",
       "      <td>6</td>\n",
       "      <td>1</td>\n",
       "      <td>0</td>\n",
       "      <td>1</td>\n",
       "      <td>4</td>\n",
       "      <td>...</td>\n",
       "      <td>2</td>\n",
       "      <td>7</td>\n",
       "      <td>7</td>\n",
       "      <td>0</td>\n",
       "      <td>2</td>\n",
       "      <td>1</td>\n",
       "      <td>4</td>\n",
       "      <td>2</td>\n",
       "      <td>3</td>\n",
       "      <td>5</td>\n",
       "    </tr>\n",
       "    <tr>\n",
       "      <th>1</th>\n",
       "      <td>0</td>\n",
       "      <td>5</td>\n",
       "      <td>2</td>\n",
       "      <td>9</td>\n",
       "      <td>1</td>\n",
       "      <td>0</td>\n",
       "      <td>1</td>\n",
       "      <td>0</td>\n",
       "      <td>0</td>\n",
       "      <td>4</td>\n",
       "      <td>...</td>\n",
       "      <td>2</td>\n",
       "      <td>7</td>\n",
       "      <td>7</td>\n",
       "      <td>0</td>\n",
       "      <td>2</td>\n",
       "      <td>1</td>\n",
       "      <td>4</td>\n",
       "      <td>3</td>\n",
       "      <td>2</td>\n",
       "      <td>1</td>\n",
       "    </tr>\n",
       "    <tr>\n",
       "      <th>2</th>\n",
       "      <td>0</td>\n",
       "      <td>0</td>\n",
       "      <td>2</td>\n",
       "      <td>8</td>\n",
       "      <td>1</td>\n",
       "      <td>3</td>\n",
       "      <td>1</td>\n",
       "      <td>0</td>\n",
       "      <td>0</td>\n",
       "      <td>5</td>\n",
       "      <td>...</td>\n",
       "      <td>2</td>\n",
       "      <td>7</td>\n",
       "      <td>7</td>\n",
       "      <td>0</td>\n",
       "      <td>2</td>\n",
       "      <td>1</td>\n",
       "      <td>4</td>\n",
       "      <td>3</td>\n",
       "      <td>2</td>\n",
       "      <td>3</td>\n",
       "    </tr>\n",
       "    <tr>\n",
       "      <th>3</th>\n",
       "      <td>1</td>\n",
       "      <td>5</td>\n",
       "      <td>3</td>\n",
       "      <td>8</td>\n",
       "      <td>1</td>\n",
       "      <td>6</td>\n",
       "      <td>1</td>\n",
       "      <td>0</td>\n",
       "      <td>1</td>\n",
       "      <td>5</td>\n",
       "      <td>...</td>\n",
       "      <td>2</td>\n",
       "      <td>7</td>\n",
       "      <td>7</td>\n",
       "      <td>0</td>\n",
       "      <td>2</td>\n",
       "      <td>1</td>\n",
       "      <td>4</td>\n",
       "      <td>2</td>\n",
       "      <td>3</td>\n",
       "      <td>5</td>\n",
       "    </tr>\n",
       "    <tr>\n",
       "      <th>4</th>\n",
       "      <td>0</td>\n",
       "      <td>5</td>\n",
       "      <td>2</td>\n",
       "      <td>3</td>\n",
       "      <td>0</td>\n",
       "      <td>5</td>\n",
       "      <td>1</td>\n",
       "      <td>1</td>\n",
       "      <td>0</td>\n",
       "      <td>4</td>\n",
       "      <td>...</td>\n",
       "      <td>2</td>\n",
       "      <td>7</td>\n",
       "      <td>7</td>\n",
       "      <td>0</td>\n",
       "      <td>2</td>\n",
       "      <td>1</td>\n",
       "      <td>0</td>\n",
       "      <td>3</td>\n",
       "      <td>0</td>\n",
       "      <td>1</td>\n",
       "    </tr>\n",
       "  </tbody>\n",
       "</table>\n",
       "<p>5 rows × 23 columns</p>\n",
       "</div>"
      ],
      "text/plain": [
       "   class  cap-shape  cap-surface  cap-color  bruises  odor  gill-attachment  \\\n",
       "0      1          5            2          4        1     6                1   \n",
       "1      0          5            2          9        1     0                1   \n",
       "2      0          0            2          8        1     3                1   \n",
       "3      1          5            3          8        1     6                1   \n",
       "4      0          5            2          3        0     5                1   \n",
       "\n",
       "   gill-spacing  gill-size  gill-color  ...  stalk-surface-below-ring  \\\n",
       "0             0          1           4  ...                         2   \n",
       "1             0          0           4  ...                         2   \n",
       "2             0          0           5  ...                         2   \n",
       "3             0          1           5  ...                         2   \n",
       "4             1          0           4  ...                         2   \n",
       "\n",
       "   stalk-color-above-ring  stalk-color-below-ring  veil-type  veil-color  \\\n",
       "0                       7                       7          0           2   \n",
       "1                       7                       7          0           2   \n",
       "2                       7                       7          0           2   \n",
       "3                       7                       7          0           2   \n",
       "4                       7                       7          0           2   \n",
       "\n",
       "   ring-number  ring-type  spore-print-color  population  habitat  \n",
       "0            1          4                  2           3        5  \n",
       "1            1          4                  3           2        1  \n",
       "2            1          4                  3           2        3  \n",
       "3            1          4                  2           3        5  \n",
       "4            1          0                  3           0        1  \n",
       "\n",
       "[5 rows x 23 columns]"
      ]
     },
     "execution_count": 3,
     "metadata": {},
     "output_type": "execute_result"
    }
   ],
   "source": [
    "encoder = LabelEncoder()\n",
    "\n",
    "# Apply the encoder to each of the columns\n",
    "df = df.apply(encoder.fit_transform)\n",
    "\n",
    "df.head()"
   ]
  },
  {
   "cell_type": "markdown",
   "id": "47be9d86",
   "metadata": {
    "papermill": {
     "duration": 0.015737,
     "end_time": "2021-09-06T06:06:10.362586",
     "exception": false,
     "start_time": "2021-09-06T06:06:10.346849",
     "status": "completed"
    },
    "tags": []
   },
   "source": [
    "As we can see the values for each column are from 0 to the number of categories for that feature. Next, we will define our functions for prior and likelihood to compute the posterior probability and weigh against each of the target variable to see which data point fits where."
   ]
  },
  {
   "cell_type": "markdown",
   "id": "4b0fa7a4",
   "metadata": {
    "papermill": {
     "duration": 0.015583,
     "end_time": "2021-09-06T06:06:10.394070",
     "exception": false,
     "start_time": "2021-09-06T06:06:10.378487",
     "status": "completed"
    },
    "tags": []
   },
   "source": [
    "## Split the dataset into train and test parts"
   ]
  },
  {
   "cell_type": "code",
   "execution_count": 4,
   "id": "211d81fd",
   "metadata": {
    "execution": {
     "iopub.execute_input": "2021-09-06T06:06:10.429478Z",
     "iopub.status.busy": "2021-09-06T06:06:10.428523Z",
     "iopub.status.idle": "2021-09-06T06:06:10.444887Z",
     "shell.execute_reply": "2021-09-06T06:06:10.445393Z",
     "shell.execute_reply.started": "2021-09-06T05:51:20.032831Z"
    },
    "papermill": {
     "duration": 0.03569,
     "end_time": "2021-09-06T06:06:10.445557",
     "exception": false,
     "start_time": "2021-09-06T06:06:10.409867",
     "status": "completed"
    },
    "tags": []
   },
   "outputs": [
    {
     "name": "stdout",
     "output_type": "stream",
     "text": [
      "X_train =  (5686, 22)\n",
      "y_train =  (5686,)\n",
      "X_test =  (2438, 22)\n",
      "y_test =  (2438,)\n"
     ]
    }
   ],
   "source": [
    "# Seperating our target and features\n",
    "X = df.drop(columns = ['class'])\n",
    "y = df['class']\n",
    "\n",
    "X_train, X_test, y_train, y_test = train_test_split(X, y, test_size = 0.3)\n",
    "\n",
    "print(\"X_train = \", X_train.shape)\n",
    "print(\"y_train = \", y_train.shape)\n",
    "print(\"X_test = \", X_test.shape)\n",
    "print(\"y_test = \", y_test.shape)"
   ]
  },
  {
   "cell_type": "markdown",
   "id": "b0068f4d",
   "metadata": {
    "papermill": {
     "duration": 0.015985,
     "end_time": "2021-09-06T06:06:10.477715",
     "exception": false,
     "start_time": "2021-09-06T06:06:10.461730",
     "status": "completed"
    },
    "tags": []
   },
   "source": [
    "## Building Our Classifier\n",
    "\n",
    "Finally the time has come when we start building our classifer step-by-step. As we have seen earlier, to classify any data point in the Naive Bayes Classifier, we need the likelihood and prior probability which we will compare and assign the class to the one with higher posterior probability."
   ]
  },
  {
   "cell_type": "code",
   "execution_count": 5,
   "id": "1861cccc",
   "metadata": {
    "execution": {
     "iopub.execute_input": "2021-09-06T06:06:10.515908Z",
     "iopub.status.busy": "2021-09-06T06:06:10.514939Z",
     "iopub.status.idle": "2021-09-06T06:06:10.518118Z",
     "shell.execute_reply": "2021-09-06T06:06:10.517519Z",
     "shell.execute_reply.started": "2021-09-06T05:51:20.051825Z"
    },
    "papermill": {
     "duration": 0.024262,
     "end_time": "2021-09-06T06:06:10.518250",
     "exception": false,
     "start_time": "2021-09-06T06:06:10.493988",
     "status": "completed"
    },
    "tags": []
   },
   "outputs": [],
   "source": [
    "# First, we calculate the prior probability which is just the percentage of data points belonging to the mentioned class\n",
    "# For example, if our training dataset has 60% edible mushrooms, then the prior probability will be 0.6 when calculating \n",
    "# in the testing side.\n",
    "\n",
    "def prior(y_train, label):\n",
    "    \n",
    "    total_points = y_train.shape[0]\n",
    "    class_points = np.sum(y_train == label)\n",
    "    \n",
    "    return class_points/float(total_points)"
   ]
  },
  {
   "cell_type": "code",
   "execution_count": 6,
   "id": "2a78b0a3",
   "metadata": {
    "execution": {
     "iopub.execute_input": "2021-09-06T06:06:10.557125Z",
     "iopub.status.busy": "2021-09-06T06:06:10.556488Z",
     "iopub.status.idle": "2021-09-06T06:06:10.558455Z",
     "shell.execute_reply": "2021-09-06T06:06:10.558927Z",
     "shell.execute_reply.started": "2021-09-06T05:51:20.058969Z"
    },
    "papermill": {
     "duration": 0.024769,
     "end_time": "2021-09-06T06:06:10.559093",
     "exception": false,
     "start_time": "2021-09-06T06:06:10.534324",
     "status": "completed"
    },
    "tags": []
   },
   "outputs": [],
   "source": [
    "## Next, we will define a function to calculate the conditional probability that we will use then to calculate the\n",
    "## likelihood,\n",
    "\n",
    "def cond_prob(X_train, y_train, feat_col, feat_val, label):\n",
    "    \"\"\"\n",
    "    In this function, we will calculate the conditional probability which will be used to calculate likelihood.\n",
    "    The value it returns is of the form \n",
    "        P(x_i | y = C)\n",
    "    which is the probability of the current feature (given by feat_col x_i) having the current value (given by feat_val)\n",
    "    given that it belongs to the target class C\n",
    "    \n",
    "    Effectively, it reduces to the form\n",
    "        all points belongig to class C which have the given value for the feature column / all points belonging to class C\n",
    "    \"\"\"\n",
    "    \n",
    "    # Getting all the \n",
    "    X_filtered = X_train[y_train == label]\n",
    "    \n",
    "    numerator = np.sum(X_filtered[feat_col] == feat_val)\n",
    "    denominator = np.sum(y_train == label)\n",
    "    \n",
    "    return numerator/float(denominator)"
   ]
  },
  {
   "cell_type": "code",
   "execution_count": 7,
   "id": "9f820d81",
   "metadata": {
    "execution": {
     "iopub.execute_input": "2021-09-06T06:06:10.593984Z",
     "iopub.status.busy": "2021-09-06T06:06:10.593373Z",
     "iopub.status.idle": "2021-09-06T06:06:10.599530Z",
     "shell.execute_reply": "2021-09-06T06:06:10.600018Z",
     "shell.execute_reply.started": "2021-09-06T05:51:35.379589Z"
    },
    "papermill": {
     "duration": 0.025133,
     "end_time": "2021-09-06T06:06:10.600182",
     "exception": false,
     "start_time": "2021-09-06T06:06:10.575049",
     "status": "completed"
    },
    "tags": []
   },
   "outputs": [],
   "source": [
    "## Now time to calculate the posterior probability and make predictions\n",
    "\n",
    "def predict(X_train, y_train, xtest):\n",
    "    \n",
    "    # Get the number of target classes\n",
    "    classes = np.unique(y_train)\n",
    "    \n",
    "    # All the features for our dataset\n",
    "    features = [x for x in X_train.columns]\n",
    "    \n",
    "    \n",
    "    # Compute posterior probabilites for each class\n",
    "    post_probs = []\n",
    "    \n",
    "    for label in classes:\n",
    "        \n",
    "        # Since, posterior = prior * likelihood\n",
    "        # We'll calculate likelihood by calculating the product of the conditional probabilities for each of the features\n",
    "        \n",
    "        likelihood = 1.0\n",
    "        \n",
    "        for f in features:\n",
    "            cond = cond_prob(X_train, y_train, f, xtest[f], label)\n",
    "            likelihood *= cond\n",
    "        \n",
    "        prior_prob = prior(y_train, label)\n",
    "        \n",
    "        posterior = prior_prob * likelihood\n",
    "        \n",
    "        post_probs.append(posterior)\n",
    "        \n",
    "    # Return the label for which the posterior probability was the maximum\n",
    "    prediction = np.argmax(post_probs)\n",
    "    \n",
    "    return prediction    "
   ]
  },
  {
   "cell_type": "markdown",
   "id": "b619ef0f",
   "metadata": {
    "papermill": {
     "duration": 0.015654,
     "end_time": "2021-09-06T06:06:10.632622",
     "exception": false,
     "start_time": "2021-09-06T06:06:10.616968",
     "status": "completed"
    },
    "tags": []
   },
   "source": [
    "## Time to test our classifer"
   ]
  },
  {
   "cell_type": "code",
   "execution_count": 8,
   "id": "9f44f675",
   "metadata": {
    "execution": {
     "iopub.execute_input": "2021-09-06T06:06:10.667559Z",
     "iopub.status.busy": "2021-09-06T06:06:10.666914Z",
     "iopub.status.idle": "2021-09-06T06:06:10.753310Z",
     "shell.execute_reply": "2021-09-06T06:06:10.751995Z",
     "shell.execute_reply.started": "2021-09-06T05:52:33.155582Z"
    },
    "papermill": {
     "duration": 0.104944,
     "end_time": "2021-09-06T06:06:10.753516",
     "exception": false,
     "start_time": "2021-09-06T06:06:10.648572",
     "status": "completed"
    },
    "tags": []
   },
   "outputs": [
    {
     "name": "stdout",
     "output_type": "stream",
     "text": [
      "Naive Bayes Classifier predicts  1\n",
      "Current Answer  1\n"
     ]
    }
   ],
   "source": [
    "# First, let's check on a random example\n",
    "\n",
    "rand_example = 6\n",
    "\n",
    "output = predict(X_train, y_train, X_test.iloc[rand_example])\n",
    "\n",
    "print(\"Naive Bayes Classifier predicts \", output)\n",
    "print(\"Current Answer \", y_test.iloc[rand_example])"
   ]
  },
  {
   "cell_type": "code",
   "execution_count": 9,
   "id": "a3ee97ca",
   "metadata": {
    "execution": {
     "iopub.execute_input": "2021-09-06T06:06:10.794893Z",
     "iopub.status.busy": "2021-09-06T06:06:10.793875Z",
     "iopub.status.idle": "2021-09-06T06:06:10.796616Z",
     "shell.execute_reply": "2021-09-06T06:06:10.797154Z",
     "shell.execute_reply.started": "2021-09-06T06:00:59.959108Z"
    },
    "papermill": {
     "duration": 0.026548,
     "end_time": "2021-09-06T06:06:10.797324",
     "exception": false,
     "start_time": "2021-09-06T06:06:10.770776",
     "status": "completed"
    },
    "tags": []
   },
   "outputs": [],
   "source": [
    "## Now, we'll check the results on each of the test data point and calculate \n",
    "## an accuracy-based score for our classifier\n",
    "\n",
    "def accuracy_score(X_train, y_train, xtest, ytest):\n",
    "    \n",
    "    preds = []\n",
    "    \n",
    "    for i in range(xtest.shape[0]):\n",
    "        pred_label = predict(X_train, y_train, xtest.iloc[i])\n",
    "        preds.append(pred_label)\n",
    "        \n",
    "    preds = np.array(preds)\n",
    "    \n",
    "    accuracy = np.sum(preds == ytest)/ytest.shape[0]\n",
    "    \n",
    "    return accuracy"
   ]
  },
  {
   "cell_type": "code",
   "execution_count": 10,
   "id": "bc334a41",
   "metadata": {
    "execution": {
     "iopub.execute_input": "2021-09-06T06:06:10.835760Z",
     "iopub.status.busy": "2021-09-06T06:06:10.835007Z",
     "iopub.status.idle": "2021-09-06T06:08:44.926886Z",
     "shell.execute_reply": "2021-09-06T06:08:44.927421Z",
     "shell.execute_reply.started": "2021-09-06T06:01:01.297738Z"
    },
    "papermill": {
     "duration": 154.113635,
     "end_time": "2021-09-06T06:08:44.927609",
     "exception": false,
     "start_time": "2021-09-06T06:06:10.813974",
     "status": "completed"
    },
    "tags": []
   },
   "outputs": [
    {
     "name": "stdout",
     "output_type": "stream",
     "text": [
      "Accuracy Score for our classifier ==  0.992616899097621\n"
     ]
    }
   ],
   "source": [
    "print(\"Accuracy Score for our classifier == \", accuracy_score(X_train, y_train, X_test, y_test))"
   ]
  },
  {
   "cell_type": "markdown",
   "id": "6a49f809",
   "metadata": {
    "papermill": {
     "duration": 0.016401,
     "end_time": "2021-09-06T06:08:44.960649",
     "exception": false,
     "start_time": "2021-09-06T06:08:44.944248",
     "status": "completed"
    },
    "tags": []
   },
   "source": [
    "**This brings us to the end of this notebook. We built a naive bayes classifier from scratch, trained it on our data and then tested it to find out that it has an accuracy of 99.7% which is really very good.**"
   ]
  },
  {
   "cell_type": "code",
   "execution_count": null,
   "id": "0424cd89",
   "metadata": {
    "papermill": {
     "duration": 0.016262,
     "end_time": "2021-09-06T06:08:44.993645",
     "exception": false,
     "start_time": "2021-09-06T06:08:44.977383",
     "status": "completed"
    },
    "tags": []
   },
   "outputs": [],
   "source": []
  }
 ],
 "metadata": {
  "kernelspec": {
   "display_name": "Python 3",
   "language": "python",
   "name": "python3"
  },
  "language_info": {
   "codemirror_mode": {
    "name": "ipython",
    "version": 3
   },
   "file_extension": ".py",
   "mimetype": "text/x-python",
   "name": "python",
   "nbconvert_exporter": "python",
   "pygments_lexer": "ipython3",
   "version": "3.9.1"
  },
  "papermill": {
   "default_parameters": {},
   "duration": 165.853024,
   "end_time": "2021-09-06T06:08:46.674326",
   "environment_variables": {},
   "exception": null,
   "input_path": "__notebook__.ipynb",
   "output_path": "__notebook__.ipynb",
   "parameters": {},
   "start_time": "2021-09-06T06:06:00.821302",
   "version": "2.3.3"
  }
 },
 "nbformat": 4,
 "nbformat_minor": 5
}
