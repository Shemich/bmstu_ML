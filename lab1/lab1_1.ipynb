{
 "cells": [
  {
   "cell_type": "markdown",
   "id": "generous-membrane",
   "metadata": {},
   "source": [
    "# ЛР1. - Модель полиномиальной регрессии.\n",
    "\n",
    "Создать обучающую выборку, воспользовавшись полиномом 6 степени или функцию y(x)= θ_1 x+θ_2  sin⁡(x)+ θ_3  с добавлением шума с нормальным распределением.\n",
    "\n",
    "Построить модель полиномиальной регрессии, аппроксимирующей данные обучающей выборки. Исходить из того, что степень полинома (начальный закон генерации обучающей выборки) неизвестен. \n",
    "\n",
    "Обучение проводить методом наименьших квадратов."
   ]
  },
  {
   "cell_type": "code",
   "execution_count": 15,
   "id": "swiss-stanford",
   "metadata": {},
   "outputs": [],
   "source": [
    "import numpy as np\n",
    "import matplotlib.pyplot as plt"
   ]
  },
  {
   "cell_type": "code",
   "execution_count": 16,
   "id": "single-minneapolis",
   "metadata": {},
   "outputs": [],
   "source": [
    "x = np.random.rand(100)*10-5"
   ]
  },
  {
   "cell_type": "code",
   "execution_count": 17,
   "id": "purple-execution",
   "metadata": {},
   "outputs": [],
   "source": [
    "y = 3*x**6 - 7*x**5 + 2*x**4 + 9*x**3 - 5*x**2 + 8*x + 1"
   ]
  },
  {
   "cell_type": "code",
   "execution_count": 18,
   "id": "central-mistake",
   "metadata": {},
   "outputs": [],
   "source": [
    "#  Добавляет случайный шум к данным, чтобы они были более похожи на реальные данные.\n",
    "# y = y + np.random.randn(100)*10"
   ]
  },
  {
   "cell_type": "code",
   "execution_count": 19,
   "id": "wicked-highway",
   "metadata": {},
   "outputs": [
    {
     "data": {
      "image/png": "[encoded data removed]",
      "text/plain": [
       "<Figure size 432x288 with 1 Axes>"
      ]
     },
     "metadata": {
      "needs_background": "light"
     },
     "output_type": "display_data"
    }
   ],
   "source": [
    "plt.scatter(x,y)\n",
    "plt.show()"
   ]
  },
  {
   "cell_type": "code",
   "execution_count": 20,
   "id": "laughing-stick",
   "metadata": {},
   "outputs": [
    {
     "name": "stdout",
     "output_type": "stream",
     "text": [
      "Лучшая степень полинома:  6\n"
     ]
    }
   ],
   "source": [
    "degrees = np.arange(1, 11) # определяем диапазон степеней полинома, который мы хотим проверить\n",
    "n = len(y)\n",
    "\n",
    "aic_scores = []\n",
    "for degree in degrees:\n",
    "    # создаем модель полиномиальной регрессии заданной степени\n",
    "    p = np.polyfit(x, y, degree) # МНК\n",
    "    y_hat = np.polyval(p, x)\n",
    "\n",
    "    # вычисляем значение AIC для данной модели\n",
    "    rss = np.sum((y - y_hat) ** 2) # residual sum of squares\n",
    "    aic = n * np.log10(rss / n) + 2 * (degree + 1) # вычисляем значение AIC\n",
    "\n",
    "    aic_scores.append(aic)\n",
    "\n",
    "# находим лучшую степень полинома по критерию AIC\n",
    "best_degree = degrees[np.argmin(aic_scores)]\n",
    "\n",
    "print(\"Лучшая степень полинома: \", best_degree)\n"
   ]
  },
  {
   "cell_type": "code",
   "execution_count": 21,
   "id": "perceived-county",
   "metadata": {},
   "outputs": [],
   "source": [
    "#polynomial fit \n",
    "model = np.poly1d(np.polyfit(x, y, degree))"
   ]
  },
  {
   "cell_type": "code",
   "execution_count": 22,
   "id": "collective-briefing",
   "metadata": {},
   "outputs": [
    {
     "data": {
      "image/png": "[encoded data removed]",
      "text/plain": [
       "<Figure size 432x288 with 1 Axes>"
      ]
     },
     "metadata": {
      "needs_background": "light"
     },
     "output_type": "display_data"
    }
   ],
   "source": [
    "polyline = np.linspace(np.min(x), np.max(x), 50)\n",
    "plt.scatter(x, y)\n",
    "plt.plot(polyline, model(polyline))\n",
    "plt.show()"
   ]
  },
  {
   "cell_type": "code",
   "execution_count": 23,
   "id": "sapphire-macedonia",
   "metadata": {},
   "outputs": [
    {
     "name": "stdout",
     "output_type": "stream",
     "text": [
      "           10             9             8            7     6     5\n",
      "8.947e-17 x  - 2.312e-16 x - 5.241e-15 x + 1.08e-14 x + 3 x - 7 x\n",
      "      4     3     2\n",
      " + 2 x + 9 x - 5 x + 8 x + 1\n"
     ]
    }
   ],
   "source": [
    "print(model)"
   ]
  }
 ],
 "metadata": {
  "kernelspec": {
   "display_name": "Python 3",
   "language": "python",
   "name": "python3"
  },
  "language_info": {
   "codemirror_mode": {
    "name": "ipython",
    "version": 3
   },
   "file_extension": ".py",
   "mimetype": "text/x-python",
   "name": "python",
   "nbconvert_exporter": "python",
   "pygments_lexer": "ipython3",
   "version": "3.9.1"
  }
 },
 "nbformat": 4,
 "nbformat_minor": 5
}
