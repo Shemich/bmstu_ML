{
 "cells": [
  {
   "cell_type": "markdown",
   "id": "biological-sellers",
   "metadata": {},
   "source": [
    "Рассмотреть феномен (явление) Рунге — в численном анализе эффект нежелательных осцилляций, возникающий при интерполяции полиномами высоких степеней.\n",
    "\n",
    "Функция $$ y(x)=  1/(1+25∙x^2 ) $$ на отрезке $$ x∈[-2,2]$$\n",
    "\n",
    "Обучающая выборка: $$ S^l={x_i=4∙\\frac{(i-1)}{(l-1)}-2 | i=1,…,l} $$\n",
    "\n",
    "Контрольная выборка: $$ S^k={x_i=4∙\\frac{(i-0.5)}{(l-1)}-2 | i=1,…,l-1} $$\n",
    "\n",
    "Рассчитать функционал эмпирического риска (функционал качества) для обучающей и контрольной выборок (вывести графики). Оценить обобщающую способность (generalization ability). Найти оптимальную степень полинома для аппроксимации.\n",
    "\n",
    "Повторить для зашумленных данных."
   ]
  },
  {
   "cell_type": "code",
   "execution_count": 1,
   "id": "chief-coordination",
   "metadata": {},
   "outputs": [],
   "source": [
    "import numpy as np\n",
    "import matplotlib.pyplot as plt"
   ]
  },
  {
   "cell_type": "code",
   "execution_count": 4,
   "id": "accurate-species",
   "metadata": {},
   "outputs": [],
   "source": [
    "def y(x):\n",
    "    return 1 / (1 + 25 * x**2)"
   ]
  },
  {
   "cell_type": "code",
   "execution_count": 5,
   "id": "floral-necessity",
   "metadata": {},
   "outputs": [
    {
     "data": {
      "image/png": "[encoded data removed]",
      "text/plain": [
       "<Figure size 432x288 with 1 Axes>"
      ]
     },
     "metadata": {
      "needs_background": "light"
     },
     "output_type": "display_data"
    }
   ],
   "source": [
    "x = np.linspace(-2, 2, 200)\n",
    "\n",
    "y_vals = y(x)\n",
    "\n",
    "plt.plot(x, y_vals)\n",
    "plt.xlabel('x')\n",
    "plt.ylabel('y')\n",
    "plt.title('Функция y(x) = 1 / (1 + 25*x^2)')\n",
    "plt.show()"
   ]
  },
  {
   "cell_type": "code",
   "execution_count": 8,
   "id": "western-johnston",
   "metadata": {},
   "outputs": [
    {
     "name": "stdout",
     "output_type": "stream",
     "text": [
      "[-2.         -1.55555556 -1.11111111 -0.66666667 -0.22222222  0.22222222\n",
      "  0.66666667  1.11111111  1.55555556  2.        ]\n",
      "[-1.77777778 -1.33333333 -0.88888889 -0.44444444  0.          0.44444444\n",
      "  0.88888889  1.33333333  1.77777778]\n"
     ]
    }
   ],
   "source": [
    "def generate_training_set(l):\n",
    "    return np.array([4*(i-1)/(l-1) - 2 for i in range(1, l+1)])\n",
    "\n",
    "def generate_test_set(l):\n",
    "    return np.array([4*(i-0.5)/(l-1) - 2 for i in range(1, l)])\n",
    "\n",
    "# example usage:\n",
    "l = 10\n",
    "training_set = generate_training_set(l)\n",
    "print(training_set)\n",
    "\n",
    "test_set = generate_test_set(l)\n",
    "print(test_set)"
   ]
  },
  {
   "cell_type": "code",
   "execution_count": null,
   "id": "affiliated-tension",
   "metadata": {},
   "outputs": [],
   "source": []
  }
 ],
 "metadata": {
  "kernelspec": {
   "display_name": "Python 3",
   "language": "python",
   "name": "python3"
  },
  "language_info": {
   "codemirror_mode": {
    "name": "ipython",
    "version": 3
   },
   "file_extension": ".py",
   "mimetype": "text/x-python",
   "name": "python",
   "nbconvert_exporter": "python",
   "pygments_lexer": "ipython3",
   "version": "3.9.1"
  }
 },
 "nbformat": 4,
 "nbformat_minor": 5
}
