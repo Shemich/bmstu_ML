{
 "cells": [
  {
   "cell_type": "markdown",
   "id": "biological-sellers",
   "metadata": {},
   "source": [
    "Рассмотреть феномен (явление) Рунге — в численном анализе эффект нежелательных осцилляций, возникающий при интерполяции полиномами высоких степеней.\n",
    "\n",
    "Функция $$ y(x)=  \\frac{1}{(1+25∙x^2)} $$ на отрезке $$ x∈[-2,2]$$\n",
    "\n",
    "Обучающая выборка: $$ S^l={x_i=4∙\\frac{(i-1)}{(l-1)}-2 | i=1,…,l} $$\n",
    "\n",
    "Контрольная выборка: $$ S^k={x_i=4∙\\frac{(i-0.5)}{(l-1)}-2 | i=1,…,l-1} $$\n",
    "\n",
    "Рассчитать функционал эмпирического риска (функционал качества) для обучающей и контрольной выборок (вывести графики). Оценить обобщающую способность (generalization ability). Найти оптимальную степень полинома для аппроксимации.\n",
    "\n",
    "Повторить для зашумленных данных."
   ]
  },
  {
   "cell_type": "code",
   "execution_count": 8,
   "id": "chief-coordination",
   "metadata": {},
   "outputs": [],
   "source": [
    "import numpy as np\n",
    "import matplotlib.pyplot as plt"
   ]
  },
  {
   "cell_type": "code",
   "execution_count": 9,
   "id": "virtual-virus",
   "metadata": {},
   "outputs": [],
   "source": [
    "def true_func(x):\n",
    "    return 1 / (1 + 25*x**2)"
   ]
  },
  {
   "cell_type": "code",
   "execution_count": 10,
   "id": "reserved-hydrogen",
   "metadata": {},
   "outputs": [
    {
     "ename": "NameError",
     "evalue": "name 'x' is not defined",
     "output_type": "error",
     "traceback": [
      "\u001b[1;31m---------------------------------------------------------------------------\u001b[0m",
      "\u001b[1;31mNameError\u001b[0m                                 Traceback (most recent call last)",
      "\u001b[1;32m<ipython-input-10-21214417b34a>\u001b[0m in \u001b[0;36m<module>\u001b[1;34m\u001b[0m\n\u001b[0;32m     30\u001b[0m \u001b[1;33m\u001b[0m\u001b[0m\n\u001b[0;32m     31\u001b[0m \u001b[1;33m\u001b[0m\u001b[0m\n\u001b[1;32m---> 32\u001b[1;33m \u001b[0mplt\u001b[0m\u001b[1;33m.\u001b[0m\u001b[0mplot\u001b[0m\u001b[1;33m(\u001b[0m\u001b[0mx\u001b[0m\u001b[1;33m,\u001b[0m \u001b[0mtrue_func\u001b[0m\u001b[1;33m(\u001b[0m\u001b[0mx\u001b[0m\u001b[1;33m)\u001b[0m\u001b[1;33m)\u001b[0m\u001b[1;33m\u001b[0m\u001b[1;33m\u001b[0m\u001b[0m\n\u001b[0m\u001b[0;32m     33\u001b[0m \u001b[0mplt\u001b[0m\u001b[1;33m.\u001b[0m\u001b[0mxlabel\u001b[0m\u001b[1;33m(\u001b[0m\u001b[1;34m'x'\u001b[0m\u001b[1;33m)\u001b[0m\u001b[1;33m\u001b[0m\u001b[1;33m\u001b[0m\u001b[0m\n\u001b[0;32m     34\u001b[0m \u001b[0mplt\u001b[0m\u001b[1;33m.\u001b[0m\u001b[0mylabel\u001b[0m\u001b[1;33m(\u001b[0m\u001b[1;34m'y'\u001b[0m\u001b[1;33m)\u001b[0m\u001b[1;33m\u001b[0m\u001b[1;33m\u001b[0m\u001b[0m\n",
      "\u001b[1;31mNameError\u001b[0m: name 'x' is not defined"
     ]
    }
   ],
   "source": [
    "# генерация обучающей выборки\n",
    "l = 20\n",
    "train_set = np.array([4*(i-1)/(l-1) - 2 for i in range(1, l+1)])\n",
    "train_labels = true_func(train_set)\n",
    "\n",
    "# генерация контрольной выборки\n",
    "k = 50\n",
    "test_set = np.array([4*(i-0.5)/(k-1) - 2 for i in range(1, k)])\n",
    "test_labels = true_func(test_set)\n",
    "\n",
    "# функционал эмпирического риска (MSE)\n",
    "def mse(y_true, y_pred):\n",
    "    return np.mean((y_true - y_pred)**2)\n",
    "\n",
    "# определение степени полинома и построение модели на обучающей выборке\n",
    "degrees = range(1, 16)\n",
    "train_loss = []\n",
    "test_loss = []\n",
    "for deg in degrees:\n",
    "    # обучение модели\n",
    "    p = np.polyfit(train_set, train_labels, deg)\n",
    "    model = np.poly1d(p)\n",
    "    \n",
    "    # расчет ошибки на обучающей и контрольной выборках\n",
    "    train_pred = np.polyval(model, train_set)\n",
    "    test_pred = np.polyval(model, test_set)\n",
    "    train_loss.append(mse(train_labels, train_pred))\n",
    "    test_loss.append(mse(test_labels, test_pred))\n",
    "    \n",
    "\n",
    "\n",
    "plt.plot(x, true_func(x))\n",
    "plt.xlabel('x')\n",
    "plt.ylabel('y')\n",
    "plt.title('Function y(x) = 1 / (1 + 25*x^2)')\n",
    "plt.show()\n",
    "\n",
    "# вывод графиков\n",
    "plt.plot(degrees, train_loss, label='Training loss')\n",
    "plt.plot(degrees, test_loss, label='Test loss')\n",
    "plt.legend()\n",
    "plt.xlabel('Степень полинома')\n",
    "plt.ylabel('Среднеквадратическая ошибка')\n",
    "plt.show()\n"
   ]
  },
  {
   "cell_type": "code",
   "execution_count": 46,
   "id": "international-being",
   "metadata": {},
   "outputs": [
    {
     "name": "stdout",
     "output_type": "stream",
     "text": [
      "Оптимальная степень полинома: 13\n"
     ]
    }
   ],
   "source": [
    "# нахождение индекса элемента списка test_loss с минимальным значением\n",
    "min_idx = np.argmin(test_loss)\n",
    "\n",
    "# степень, при которой ошибка на контрольной выборке минимальна\n",
    "print(\"Оптимальная степень полинома:\", degrees[min_idx])"
   ]
  },
  {
   "cell_type": "code",
   "execution_count": 48,
   "id": "relevant-principal",
   "metadata": {},
   "outputs": [
    {
     "name": "stdout",
     "output_type": "stream",
     "text": [
      "Степень 1:\n",
      "Train MSE = 0.052\n",
      "Test MSE = 0.057\n",
      "\n",
      "Степень 2:\n",
      "Train MSE = 0.036\n",
      "Test MSE = 0.039\n",
      "\n",
      "Степень 3:\n",
      "Train MSE = 0.036\n",
      "Test MSE = 0.039\n",
      "\n",
      "Степень 4:\n",
      "Train MSE = 0.024\n",
      "Test MSE = 0.026\n",
      "\n",
      "Степень 5:\n",
      "Train MSE = 0.024\n",
      "Test MSE = 0.026\n",
      "\n",
      "Степень 6:\n",
      "Train MSE = 0.015\n",
      "Test MSE = 0.018\n",
      "\n",
      "Степень 7:\n",
      "Train MSE = 0.015\n",
      "Test MSE = 0.018\n",
      "\n",
      "Степень 8:\n",
      "Train MSE = 0.010\n",
      "Test MSE = 0.012\n",
      "\n",
      "Степень 9:\n",
      "Train MSE = 0.010\n",
      "Test MSE = 0.012\n",
      "\n",
      "Степень 10:\n",
      "Train MSE = 0.006\n",
      "Test MSE = 0.008\n",
      "\n",
      "Степень 11:\n",
      "Train MSE = 0.006\n",
      "Test MSE = 0.008\n",
      "\n",
      "Степень 12:\n",
      "Train MSE = 0.003\n",
      "Test MSE = 0.008\n",
      "\n",
      "Степень 13:\n",
      "Train MSE = 0.003\n",
      "Test MSE = 0.008\n",
      "\n",
      "Степень 14:\n",
      "Train MSE = 0.002\n",
      "Test MSE = 0.033\n",
      "\n",
      "Степень 15:\n",
      "Train MSE = 0.002\n",
      "Test MSE = 0.033\n",
      "\n"
     ]
    }
   ],
   "source": [
    "# вывод результатов\n",
    "for i, deg in enumerate(degrees):\n",
    "    print(f\"Степень {deg}:\")\n",
    "    print(f\"Train MSE = {train_loss[i]:.3f}\")\n",
    "    print(f\"Test MSE = {test_loss[i]:.3f}\\n\")"
   ]
  },
  {
   "cell_type": "code",
   "execution_count": null,
   "id": "exotic-hearing",
   "metadata": {},
   "outputs": [],
   "source": []
  }
 ],
 "metadata": {
  "kernelspec": {
   "display_name": "Python 3",
   "language": "python",
   "name": "python3"
  },
  "language_info": {
   "codemirror_mode": {
    "name": "ipython",
    "version": 3
   },
   "file_extension": ".py",
   "mimetype": "text/x-python",
   "name": "python",
   "nbconvert_exporter": "python",
   "pygments_lexer": "ipython3",
   "version": "3.9.1"
  }
 },
 "nbformat": 4,
 "nbformat_minor": 5
}
